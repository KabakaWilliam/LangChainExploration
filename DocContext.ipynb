{
 "cells": [
  {
   "cell_type": "code",
   "execution_count": 13,
   "metadata": {},
   "outputs": [
    {
     "name": "stderr",
     "output_type": "stream",
     "text": [
      "/Users/wgl8723/Desktop/Sandbox/LLM-Playground/chains/search/.venv/lib/python3.11/site-packages/pinecone/index.py:4: TqdmWarning: IProgress not found. Please update jupyter and ipywidgets. See https://ipywidgets.readthedocs.io/en/stable/user_install.html\n",
      "  from tqdm.autonotebook import tqdm\n"
     ]
    }
   ],
   "source": [
    "import os\n",
    "# from langchain.document_loaders import FigmaFileLoader\n",
    "from langchain.vectorstores import FAISS\n",
    "from langchain.document_loaders import PyPDFLoader\n",
    "from langchain.text_splitter import CharacterTextSplitter\n",
    "from langchain.chat_models import ChatOpenAI\n",
    "from langchain.indexes import VectorstoreIndexCreator\n",
    "from langchain.chains import ConversationChain, LLMChain\n",
    "from langchain.memory import ConversationBufferWindowMemory\n",
    "from langchain.prompts.chat import (\n",
    "    ChatPromptTemplate,\n",
    "    SystemMessagePromptTemplate,\n",
    "    AIMessagePromptTemplate,\n",
    "    HumanMessagePromptTemplate,\n",
    ")\n",
    "from langchain.embeddings import OpenAIEmbeddings\n",
    "# import pinecone\n",
    "from langchain.vectorstores import pinecone\n",
    "\n"
   ]
  },
  {
   "cell_type": "code",
   "execution_count": 11,
   "metadata": {},
   "outputs": [],
   "source": [
    "loader = PyPDFLoader(\"docs/ATM.pdf\")\n",
    "pages = loader.load_and_split()"
   ]
  },
  {
   "cell_type": "code",
   "execution_count": 10,
   "metadata": {},
   "outputs": [
    {
     "data": {
      "text/plain": [
       "Document(page_content='that one emerges from the other? I would like to think that this could not be an authentic basis for asserting or even denying the African \\nancestry\\tof\\tone-party \\tpolity.\\tAs\\tI\\tsee\\tit,\\teven\\tif\\tit\\twere\\tto\\tbe\\testablished \\tthat\\tthe\\tconsensual \\tpolity\\tand\\tthe\\tone-party \\tpolity\\tshare\\tsignificant \\t\\ncommonalities, \\tthese\\tcould\\tnot\\tbe\\tsufficient\\tgrounds\\tto\\tconclude\\tthat\\tthe\\tone-party \\tpolity\\thas\\tits\\tancestry\\tin\\tAfrican\\tconsensual \\tpolity.\\tIn\\t\\nthis connection, it might be necessary for those who want to situate the one-party polity in African consensual polity to offer a plausible \\naccount of how the former has ancestry in the latter. In the same vein, those who deny the African origin of the one-party polity, such as \\nWiredu (1997), ought also to furnish the reasons why it is objectionable to claim that the one-party polity has an African ancestry. One \\nreason could be that these two modes of democracy are strange bedfellows by essence.', lookup_str='', metadata={'source': 'docs/conDem.pdf', 'page': 1}, lookup_index=0)"
      ]
     },
     "execution_count": 10,
     "metadata": {},
     "output_type": "execute_result"
    }
   ],
   "source": [
    "pages[2]"
   ]
  },
  {
   "cell_type": "code",
   "execution_count": null,
   "metadata": {},
   "outputs": [],
   "source": [
    "def embedDoc(doc):\n",
    "    embeddings = OpenAIEmbeddings(doc)\n",
    "    return embeddings\n",
    "\n",
    "index = pinecone.Pinecone\n"
   ]
  }
 ],
 "metadata": {
  "kernelspec": {
   "display_name": ".venv",
   "language": "python",
   "name": "python3"
  },
  "language_info": {
   "codemirror_mode": {
    "name": "ipython",
    "version": 3
   },
   "file_extension": ".py",
   "mimetype": "text/x-python",
   "name": "python",
   "nbconvert_exporter": "python",
   "pygments_lexer": "ipython3",
   "version": "3.11.1"
  },
  "orig_nbformat": 4
 },
 "nbformat": 4,
 "nbformat_minor": 2
}
