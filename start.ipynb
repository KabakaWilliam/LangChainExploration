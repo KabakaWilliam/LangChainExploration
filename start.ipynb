{
 "cells": [
  {
   "cell_type": "code",
   "execution_count": 1,
   "metadata": {},
   "outputs": [],
   "source": [
    "import os\n",
    "from langchain.llms import OpenAI\n",
    "from langchain.prompts import PromptTemplate\n",
    "from langchain.chains import LLMChain\n",
    "from langchain.llms.loading import load_llm\n",
    "\n"
   ]
  },
  {
   "cell_type": "code",
   "execution_count": 2,
   "metadata": {},
   "outputs": [],
   "source": [
    "key = os.environ.get(\"OPENAI_API_KEY\")\n",
    "googleAPIKey = os.environ.get(\"GOOGLE_API_KEY\")\n",
    "GOOGLE_CSE_ID=os.environ.get(\"GOOGLE_CSE_ID\")\n"
   ]
  },
  {
   "cell_type": "code",
   "execution_count": 3,
   "metadata": {},
   "outputs": [],
   "source": [
    "# llm = OpenAI(temperature=0.9)\n",
    "llm = load_llm(\"llm.json\")\n",
    "prompt = PromptTemplate(\n",
    "    input_variables=[\"product\"],\n",
    "    template=\"What is a good one-word name for an app that makes {product}?\",\n",
    ")"
   ]
  },
  {
   "cell_type": "code",
   "execution_count": 22,
   "metadata": {},
   "outputs": [
    {
     "name": "stdout",
     "output_type": "stream",
     "text": [
      "What is a good one-word name for an app that makes connections between large language models and API's?\n"
     ]
    }
   ],
   "source": [
    "print(prompt.format(product=\"connections between large language models and API's\"))"
   ]
  },
  {
   "cell_type": "code",
   "execution_count": 23,
   "metadata": {},
   "outputs": [],
   "source": [
    "chain = LLMChain(llm=llm, prompt=prompt)"
   ]
  },
  {
   "cell_type": "code",
   "execution_count": 24,
   "metadata": {},
   "outputs": [
    {
     "data": {
      "text/plain": [
       "'\\n\\nLinker.'"
      ]
     },
     "execution_count": 24,
     "metadata": {},
     "output_type": "execute_result"
    }
   ],
   "source": [
    "finalPrompt =\"connections between large language models and API's\"\n",
    "chain.run(finalPrompt)"
   ]
  },
  {
   "attachments": {},
   "cell_type": "markdown",
   "metadata": {},
   "source": [
    "# TOOLS"
   ]
  },
  {
   "cell_type": "code",
   "execution_count": 4,
   "metadata": {},
   "outputs": [],
   "source": [
    "from langchain.agents import load_tools\n",
    "from langchain.agents import initialize_agent"
   ]
  },
  {
   "attachments": {},
   "cell_type": "markdown",
   "metadata": {},
   "source": [
    "## Google Search\n"
   ]
  },
  {
   "cell_type": "code",
   "execution_count": 15,
   "metadata": {},
   "outputs": [
    {
     "name": "stdout",
     "output_type": "stream",
     "text": [
      "\n",
      "\n",
      "\u001b[1m> Entering new AgentExecutor chain...\u001b[0m\n",
      "\u001b[32;1m\u001b[1;3m I need to find the current weather in Doha\n",
      "Action: Google Search\n",
      "Action Input: \"Current weather in Doha\"\u001b[0m\n",
      "Observation: \u001b[36;1m\u001b[1;3mBe prepared with the most accurate 10-day forecast for Doha, Qatar with highs, lows, chance of precipitation from The Weather Channel and Weather.com. Doha, Doha, Qatar Weather Forecast, with current conditions, wind, air quality, and what to expect for the next 3 days. Hourly Local Weather Forecast, weather conditions, precipitation, dew point, humidity, wind from Weather.com and The Weather Channel. TodayHourly14 DaysPastClimate. Currently: 77 °F. Sunny. (Weather station: Doha International Airport, Qatar). See more current weather. Temperature History ; High. Low ; Forecast. 80°. 74° ; Average. 83°. 64° ; Last Year. 87°. 69° ... 14-day weather forecast for Doha. ... Light winds from the south east. See more weather for. Sunday 26th. Last updated today at 08:09 ... Doha, Qatar Weather Conditionsstar_ratehome ... Gusts 2 °mph. Today's temperature is forecast to be NEARLY THE SAME as yesterday. Radar; Satellite. Get Doha, QA current weather report with temperature, feels like, air quality, humidity, UV report and pollen forecast from TheWeatherNetwork.com. Weather Forecasts. Weather Underground provides local & long-range weather forecasts, weatherreports, maps & tropical weather conditions for the area. National Weather Service Home page. The starting point for official government weather forecasts, warnings, meteorological products for forecasting the ...\u001b[0m\n",
      "Thought:\u001b[32;1m\u001b[1;3m I need to retrieve the data in json format\n",
      "Action: Google Search\n",
      "Action Input: \"Current weather in Doha in json\"\u001b[0m\n",
      "Observation: \u001b[36;1m\u001b[1;3mThe data includes select hourly and daily weather and climate data elements. These weather elements include temperature, rain, snowfall, and wind as well as ... It is quite easy to work with Openweather API. Just sign up to get your API key and then call any weather API. And mind using API key in every API call ... A17 Timezones · show an analogue clock · show 24 hour time format for the digital clocks · hide the current temperature · show weather information (with rain chance ... Get the latest weather forecast in National Stadium Of Qatar - Khalifa Stadium, Qatar FOOTBALL for today, tomorrow, long range weather and the next 14 days, ... Nov 22, 2022 ... 'Tis the season for wall charts and fans gathering around to pick their starting teams for the 2022 Qatar World Cup. In general, data from the airports is of good quality and representative of the local surrounding area. These images and data are in the public domain, ... Metcheck.com - The latest weather forecasts for every 2022 FIFA World Cup Match which will be held in Qatar. Mar 16, 2023 ... The food and drink in Bansko are also a highlight, with delicious traditional dishes and local wines available in many restaurants and taverns ... Get the latest weather forecast in Doha Gc, Doha, Qatar GOLF for today, tomorrow, ... Check out our popular weather API to get weather data in XML and JSON ... May 30, 2021 ... There's no way to disable mixed content using javascript but you can add this tag <meta http-equiv=\"Content-Security-Policy\" ...\u001b[0m\n",
      "Thought:\u001b[32;1m\u001b[1;3m I now know the final answer\n",
      "Final Answer: { \n",
      "    \"temperature\": 77 °F, \n",
      "    \"conditions\": \"Sunny\", \n",
      "    \"wind\": 2 mph, \n",
      "    \"forecast\": {\n",
      "        \"high\": 80 °F,\n",
      "        \"low\": 74 °F,\n",
      "        \"averageHigh\": 83 °F,\n",
      "        \"averageLow\": 64 °F\n",
      "    }\n",
      "}\u001b[0m\n",
      "\n",
      "\u001b[1m> Finished chain.\u001b[0m\n"
     ]
    }
   ],
   "source": [
    "# jsonFormat = \"{{temperature: degreeInCelcius, high: degreeInCelcius, low: degreeInCelcius, precipirationChance: amountInInchies, prevailingWind:direction}}\"\n",
    "jsonFormat = \"{{ Temperature: 20°C, Humidity: 56%, Wind: 13 km/h, Pressure: 1015 mbar }}\"\n",
    "searchPrompt = 'What is the weather in Doha today? Only answer with json in the format shown below ${jsonFormat}'\n",
    "tools = load_tools([\"google-search\"], llm=llm)\n",
    "agent = initialize_agent(tools, llm, agent=\"zero-shot-react-description\", verbose=True)\n",
    "answer = agent.run(searchPrompt)\n"
   ]
  },
  {
   "cell_type": "code",
   "execution_count": 13,
   "metadata": {},
   "outputs": [
    {
     "data": {
      "text/plain": [
       "'{ \"Temperature\": \"20°C\", \"Humidity\": \"56%\", \"Wind\": \"13 km/h\", \"Pressure\": \"1015 mbar\" }'"
      ]
     },
     "execution_count": 13,
     "metadata": {},
     "output_type": "execute_result"
    }
   ],
   "source": [
    "answer"
   ]
  },
  {
   "cell_type": "code",
   "execution_count": 16,
   "metadata": {},
   "outputs": [
    {
     "data": {
      "text/plain": [
       "'{ \\n    \"temperature\": 77 °F, \\n    \"conditions\": \"Sunny\", \\n    \"wind\": 2 mph, \\n    \"forecast\": {\\n        \"high\": 80 °F,\\n        \"low\": 74 °F,\\n        \"averageHigh\": 83 °F,\\n        \"averageLow\": 64 °F\\n    }\\n}'"
      ]
     },
     "execution_count": 16,
     "metadata": {},
     "output_type": "execute_result"
    }
   ],
   "source": [
    "answer"
   ]
  },
  {
   "cell_type": "code",
   "execution_count": null,
   "metadata": {},
   "outputs": [],
   "source": []
  }
 ],
 "metadata": {
  "kernelspec": {
   "display_name": ".venv",
   "language": "python",
   "name": "python3"
  },
  "language_info": {
   "codemirror_mode": {
    "name": "ipython",
    "version": 3
   },
   "file_extension": ".py",
   "mimetype": "text/x-python",
   "name": "python",
   "nbconvert_exporter": "python",
   "pygments_lexer": "ipython3",
   "version": "3.11.1"
  },
  "orig_nbformat": 4
 },
 "nbformat": 4,
 "nbformat_minor": 2
}
