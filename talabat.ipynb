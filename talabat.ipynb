{
 "cells": [
  {
   "cell_type": "code",
   "execution_count": 1,
   "metadata": {},
   "outputs": [],
   "source": [
    "import requests\n",
    "from bs4 import BeautifulSoup\n",
    "import re"
   ]
  },
  {
   "cell_type": "code",
   "execution_count": 6,
   "metadata": {},
   "outputs": [],
   "source": [
    "BASE_URL = \"https://www.talabat.com\"\n",
    "CATEGORY_URL = \"https://www.talabat.com/qatar/grocery/600710/talabat-mart?aid=3854\"\n"
   ]
  },
  {
   "cell_type": "code",
   "execution_count": 3,
   "metadata": {},
   "outputs": [],
   "source": [
    "r = requests.get(CATEGORY_URL)"
   ]
  },
  {
   "cell_type": "code",
   "execution_count": 9,
   "metadata": {},
   "outputs": [],
   "source": [
    "def getCategoryList(CATEGORY_URL):\n",
    "    r = requests.get(CATEGORY_URL)\n",
    "    soup = BeautifulSoup(r.content, 'html.parser')\n",
    "    soup.prettify()\n",
    "    categoryTags = soup.find_all('a', attrs={'data-testid': 'category-item-link-container'})\n",
    "\n",
    "    categories = []\n",
    "    # iterate over the category tags and extract the category name and URL\n",
    "    for tag in categoryTags:\n",
    "        category = tag.find('p', attrs={'data-testid': 'category-name'}).text\n",
    "        url = tag['href']\n",
    "        categories.append({'category': category, 'url':BASE_URL+ url})\n",
    "    return categories"
   ]
  },
  {
   "cell_type": "code",
   "execution_count": 11,
   "metadata": {},
   "outputs": [],
   "source": [
    "categories = getCategoryList(CATEGORY_URL)"
   ]
  },
  {
   "cell_type": "code",
   "execution_count": null,
   "metadata": {},
   "outputs": [],
   "source": [
    "categories"
   ]
  },
  {
   "cell_type": "code",
   "execution_count": 18,
   "metadata": {},
   "outputs": [
    {
     "data": {
      "text/plain": [
       "[{'itemName': 'Dried Apricot Paste Syria 400 g x3', 'price': 'QR 22.50'},\n",
       " {'itemName': 'Baladna Full Fat UHT Milk 1 L + Banana Philippines Approx 1 kg',\n",
       "  'price': 'QR 14.00'},\n",
       " {'itemName': 'Baladna Arabic Yoghurt 1 kg + Cucumber Qatar Approx 1 kg',\n",
       "  'price': 'QR 14.50'}]"
      ]
     },
     "execution_count": 18,
     "metadata": {},
     "output_type": "execute_result"
    }
   ],
   "source": [
    "# get products\n",
    "r = requests.get(\"https://www.talabat.com/qatar/grocery/600710/talabat-mart/fruits-vegetables/fv-combos?aid=3855\")\n",
    "soup = BeautifulSoup(r.content, 'html.parser')\n",
    "products = soup.find_all('a', attrs={'data-testid': 'grocery-item-link-nofollow'})\n",
    "\n",
    "productStore = []\n",
    "# iterate over the category tags and extract the category name and URL\n",
    "for tag in products:\n",
    "    itemName = tag.find('div', attrs={'data-test': 'item-name'}).text\n",
    "    price = tag.find('div', attrs={'data-test': 'price'}).text\n",
    "    productStore.append({'itemName': itemName, 'price':price})\n",
    "\n",
    "productStore\n"
   ]
  },
  {
   "cell_type": "code",
   "execution_count": 22,
   "metadata": {},
   "outputs": [],
   "source": [
    "def getProductsFromSubCategory(subCategory, category=\"fruits-vegetables\"):\n",
    "    categorizedURL = f\"https://www.talabat.com/qatar/grocery/600710/talabat-mart/{category}/{subCategory}?aid=3855\"\n",
    "    print(\"URL being searched: \",categorizedURL)\n",
    "    r = requests.get(categorizedURL)\n",
    "    soup = BeautifulSoup(r.content, 'html.parser')\n",
    "    products = soup.find_all('a', attrs={'data-testid': 'grocery-item-link-nofollow'})\n",
    "\n",
    "    productStore = []\n",
    "    # iterate over the category tags and extract the category name and URL\n",
    "    for tag in products:\n",
    "        itemName = tag.find('div', attrs={'data-test': 'item-name'}).text\n",
    "        price = tag.find('div', attrs={'data-test': 'price'}).text\n",
    "        productStore.append({'itemName': itemName, 'price':price})\n",
    "    return productStore\n",
    "\n",
    "    "
   ]
  },
  {
   "cell_type": "code",
   "execution_count": 24,
   "metadata": {},
   "outputs": [
    {
     "name": "stdout",
     "output_type": "stream",
     "text": [
      "https://www.talabat.com/qatar/grocery/600710/talabat-mart/fruits-vegetables/fruits?aid=3855\n"
     ]
    },
    {
     "data": {
      "text/plain": [
       "[{'itemName': 'Banana Philippines Approx 1 kg', 'price': 'QR 6.50'},\n",
       " {'itemName': 'Avocado Hass Ready to Eat Chile 2 Pcs ', 'price': 'QR 19.75'},\n",
       " {'itemName': 'Kiwi Iran Approx 1 kg', 'price': 'QR 7.50'},\n",
       " {'itemName': 'Apple Green Italy Approx 1kg', 'price': 'QR 6.50'},\n",
       " {'itemName': 'Mix Fruit Tray', 'price': 'QR 8.00'},\n",
       " {'itemName': 'Sweetmelon Oman Approx 2 kg', 'price': 'QR 17.50'},\n",
       " {'itemName': 'Apple Golden Italy Approx 1 kg', 'price': 'QR 6.50'},\n",
       " {'itemName': 'Avocado Hass 2 Pcs Peru', 'price': 'QR 24.75'},\n",
       " {'itemName': 'Passion Fruits Holland/Thailand 500 g Pkt',\n",
       "  'price': 'QR 25.00'},\n",
       " {'itemName': 'Mangosteen Thailand 500 g', 'price': 'QR 36.50'},\n",
       " {'itemName': 'Red Currant Holland 125 g', 'price': 'QR 24.75'},\n",
       " {'itemName': 'Mango Brazil Approx 1 kg', 'price': 'QR 27.50'},\n",
       " {'itemName': 'Guava Thailand Approx 1 kg', 'price': 'QR 44.50'},\n",
       " {'itemName': 'Grapefruit Jordan 1 kg', 'price': 'QR 7.00'},\n",
       " {'itemName': 'Longan Thailand 500 g', 'price': 'QR 27.00'},\n",
       " {'itemName': 'Baby Papaya Thailand 1 kg Approx', 'price': 'QR 48.50'},\n",
       " {'itemName': 'Physalis Colombia 100 g', 'price': 'QR 16.75'},\n",
       " {'itemName': 'Rambutan Thailand Approx 500 g', 'price': 'QR 32.50'},\n",
       " {'itemName': 'Dragon Fruit Thailand 1 kg', 'price': 'QR 42.50'},\n",
       " {'itemName': 'Melon Honey Dew Australia 1 kg', 'price': 'QR 34.00'},\n",
       " {'itemName': 'Grapefruit South Africa Approx 1 kg', 'price': 'QR 11.00'},\n",
       " {'itemName': 'Melon Galia Spain 1 kg', 'price': 'QR 27.75'},\n",
       " {'itemName': 'Dragon Fruit White Thailand Approx 1 kg', 'price': 'QR 44.50'},\n",
       " {'itemName': 'Dragon Fruit Red Vietnam Approx 1 kg', 'price': 'QR 46.75'}]"
      ]
     },
     "execution_count": 24,
     "metadata": {},
     "output_type": "execute_result"
    }
   ],
   "source": [
    "getProductsFromSubCategory(\"fruits\", category=\"fruits-vegetables\")"
   ]
  },
  {
   "cell_type": "code",
   "execution_count": null,
   "metadata": {},
   "outputs": [],
   "source": []
  }
 ],
 "metadata": {
  "kernelspec": {
   "display_name": ".venv",
   "language": "python",
   "name": "python3"
  },
  "language_info": {
   "codemirror_mode": {
    "name": "ipython",
    "version": 3
   },
   "file_extension": ".py",
   "mimetype": "text/x-python",
   "name": "python",
   "nbconvert_exporter": "python",
   "pygments_lexer": "ipython3",
   "version": "3.11.1"
  },
  "orig_nbformat": 4
 },
 "nbformat": 4,
 "nbformat_minor": 2
}
